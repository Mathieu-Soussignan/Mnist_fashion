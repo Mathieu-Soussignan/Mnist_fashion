{
 "cells": [
  {
   "cell_type": "code",
   "execution_count": 2,
   "metadata": {},
   "outputs": [],
   "source": [
    "import mlflow\n",
    "import mlflow.sklearn \n",
    "from sklearn.svm import SVC\n",
    "from sklearn.metrics import accuracy_score\n",
    "from sklearn.datasets import fetch_openml\n",
    "import numpy as np\n",
    "from sklearn.model_selection import train_test_split\n",
    "\n",
    "# Charger le jeu de données\n",
    "data = fetch_openml('Fashion-MNIST', version=1)\n",
    "X = np.array(data.data)\n",
    "y = np.array(data.target)\n",
    "\n",
    "# Diviser les données en ensembles d'entraînement et de test\n",
    "X_train, X_test, y_train, y_test = train_test_split(X, y, test_size=0.2, random_state=42)\n",
    "\n",
    "# Démarrer une expérience MLflow\n",
    "mlflow.set_experiment(\"Classification Fashion-MNIST\") \n",
    "\n",
    "with mlflow.start_run():\n",
    "    # Enregistrer les paramètres du modèle\n",
    "    mlflow.log_param(\"kernel\", 'linear') \n",
    "    mlflow.log_param(\"C\", 1.0) \n",
    "\n",
    "    # Entraîner le modèle (exemple avec SVM)\n",
    "    model = SVC(kernel='linear', C=1.0)\n",
    "    model.fit(X_train, y_train)\n",
    "\n",
    "    # Prédictions et évaluation\n",
    "    y_pred = model.predict(X_test)\n",
    "    accuracy = accuracy_score(y_test, y_pred)\n",
    "\n",
    "    # Enregistrer la métrique (accuracy)\n",
    "    mlflow.log_metric(\"accuracy\", accuracy)\n",
    "\n",
    "    # Enregistrer le modèle en tant qu'artefact\n",
    "    mlflow.sklearn.log_model(model, \"model\") "
   ]
  }
 ],
 "metadata": {
  "kernelspec": {
   "display_name": ".venv",
   "language": "python",
   "name": "python3"
  },
  "language_info": {
   "codemirror_mode": {
    "name": "ipython",
    "version": 3
   },
   "file_extension": ".py",
   "mimetype": "text/x-python",
   "name": "python",
   "nbconvert_exporter": "python",
   "pygments_lexer": "ipython3",
   "version": "3.12.2"
  }
 },
 "nbformat": 4,
 "nbformat_minor": 2
}
